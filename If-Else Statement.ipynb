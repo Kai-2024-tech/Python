{
 "cells": [
  {
   "cell_type": "code",
   "execution_count": 15,
   "id": "5dd16c3b-317a-4441-9fbc-a3a70b19c0fe",
   "metadata": {},
   "outputs": [
    {
     "name": "stdout",
     "output_type": "stream",
     "text": [
      "It worked!\n"
     ]
    }
   ],
   "source": [
    "if 25 > 10:\n",
    "    print('It worked!')"
   ]
  },
  {
   "cell_type": "code",
   "execution_count": 21,
   "id": "d8bd6d69-e05f-4767-a09e-d75944330bb4",
   "metadata": {},
   "outputs": [
    {
     "name": "stdout",
     "output_type": "stream",
     "text": [
      "It did not work...\n"
     ]
    }
   ],
   "source": [
    "if 25 < 10:\n",
    "    print('It worked!')\n",
    "else:\n",
    "    print('It did not work...')"
   ]
  },
  {
   "cell_type": "code",
   "execution_count": 33,
   "id": "d145da39-91a0-4d92-a9aa-1ce602a68b50",
   "metadata": {},
   "outputs": [
    {
     "name": "stdout",
     "output_type": "stream",
     "text": [
      "elif 3 worked!\n"
     ]
    }
   ],
   "source": [
    "if 25 < 10:\n",
    "    print('It worked!')\n",
    "elif 25 < 20:\n",
    "    print('elif worked!')\n",
    "elif 25 < 21:\n",
    "    print('elif 2 worked!')\n",
    "elif 25 < 40:\n",
    "    print('elif 3 worked!') #it stops here because it is the first one that meets the if requirement\n",
    "elif 25 < 50:\n",
    "    print('elif 4 worked!')\n",
    "else:\n",
    "    print('It did not work...')"
   ]
  },
  {
   "cell_type": "code",
   "execution_count": 37,
   "id": "85523e92-4411-4c56-b63b-96032ea0c98a",
   "metadata": {},
   "outputs": [
    {
     "name": "stdout",
     "output_type": "stream",
     "text": [
      "It worked!\n"
     ]
    }
   ],
   "source": [
    "if (25 < 1) or (1 < 3): #take note we use \"or\" here so either or statement is true then it will be True or It Worked!\n",
    "    print('It worked!')\n",
    "elif 25 < 20:\n",
    "    print('elif worked!')\n",
    "elif 25 < 21:\n",
    "    print('elif 2 worked!')\n",
    "elif 25 < 40:\n",
    "    print('elif 3 worked!') #it stops here because it is the first one that meets the if statement\n",
    "elif 25 < 50:\n",
    "    print('elif 4 worked!')\n",
    "else:\n",
    "    print('It did not work...')"
   ]
  },
  {
   "cell_type": "code",
   "execution_count": 39,
   "id": "83eb6f42-3705-446c-807a-1e4634227a3b",
   "metadata": {},
   "outputs": [
    {
     "name": "stdout",
     "output_type": "stream",
     "text": [
      "It did not work...\n"
     ]
    }
   ],
   "source": [
    "print('It worked!') if 10 > 30 else print('It did not work...')"
   ]
  },
  {
   "cell_type": "code",
   "execution_count": 45,
   "id": "817adfdc-a90e-4707-a8b8-16dde4ac9c16",
   "metadata": {},
   "outputs": [
    {
     "name": "stdout",
     "output_type": "stream",
     "text": [
      "It worked!\n",
      "This nested if statement worked!\n"
     ]
    }
   ],
   "source": [
    "if (25 < 1) or (1 < 3): #take note we use \"or\" here so either or statement is true then it will be True or It Worked!\n",
    "    print('It worked!')\n",
    "    if 10 > 5:\n",
    "       print('This nested if statement worked!')\n",
    "elif 25 < 20:\n",
    "    print('elif worked!')\n",
    "elif 25 < 21:\n",
    "    print('elif 2 worked!')\n",
    "elif 25 < 40:\n",
    "    print('elif 3 worked!') #it stops here because it is the first one that meets the if statement\n",
    "elif 25 < 50:\n",
    "    print('elif 4 worked!')\n",
    "else:\n",
    "    print('It did not work...')"
   ]
  },
  {
   "cell_type": "code",
   "execution_count": null,
   "id": "981cc9d2-7a75-4357-91cc-875cc4dbe97c",
   "metadata": {},
   "outputs": [],
   "source": []
  },
  {
   "cell_type": "code",
   "execution_count": null,
   "id": "abb9ffc1-f9ec-4d2e-8fbe-5f3f2e003a77",
   "metadata": {},
   "outputs": [],
   "source": []
  },
  {
   "cell_type": "code",
   "execution_count": null,
   "id": "00859851-3d25-4459-9f6f-aee8926f5c5c",
   "metadata": {},
   "outputs": [],
   "source": []
  },
  {
   "cell_type": "code",
   "execution_count": null,
   "id": "02f54ee3-020d-479b-85bb-4b142bf27a6b",
   "metadata": {},
   "outputs": [],
   "source": []
  },
  {
   "cell_type": "code",
   "execution_count": null,
   "id": "ddb40630-9564-4cbd-b83c-c35ca1d6b212",
   "metadata": {},
   "outputs": [],
   "source": []
  },
  {
   "cell_type": "code",
   "execution_count": null,
   "id": "cc43ba68-a162-4112-8f55-2728bbaa60ac",
   "metadata": {},
   "outputs": [],
   "source": []
  },
  {
   "cell_type": "code",
   "execution_count": null,
   "id": "d7e7184f-ad0c-4ff4-8578-f7b2882591d3",
   "metadata": {},
   "outputs": [],
   "source": []
  },
  {
   "cell_type": "code",
   "execution_count": null,
   "id": "db2bbfad-71ab-4416-937c-ceb28fa3d701",
   "metadata": {},
   "outputs": [],
   "source": []
  },
  {
   "cell_type": "code",
   "execution_count": null,
   "id": "7811579c-5296-486c-b1e9-8eda1d58b860",
   "metadata": {},
   "outputs": [],
   "source": []
  }
 ],
 "metadata": {
  "kernelspec": {
   "display_name": "Python [conda env:base] *",
   "language": "python",
   "name": "conda-base-py"
  },
  "language_info": {
   "codemirror_mode": {
    "name": "ipython",
    "version": 3
   },
   "file_extension": ".py",
   "mimetype": "text/x-python",
   "name": "python",
   "nbconvert_exporter": "python",
   "pygments_lexer": "ipython3",
   "version": "3.12.7"
  }
 },
 "nbformat": 4,
 "nbformat_minor": 5
}
