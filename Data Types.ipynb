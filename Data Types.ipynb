{
 "cells": [
  {
   "cell_type": "code",
   "execution_count": 49,
   "id": "20d39a40-76bc-4e07-818d-1297f95e5e0d",
   "metadata": {},
   "outputs": [
    {
     "data": {
      "text/plain": [
       "int"
      ]
     },
     "execution_count": 49,
     "metadata": {},
     "output_type": "execute_result"
    }
   ],
   "source": [
    "#Data Types\n",
    "\n",
    "type(-12 + 100)"
   ]
  },
  {
   "cell_type": "code",
   "execution_count": 51,
   "id": "a8effd7d-fbc2-41a7-8b14-70a936cde9b7",
   "metadata": {},
   "outputs": [
    {
     "data": {
      "text/plain": [
       "float"
      ]
     },
     "execution_count": 51,
     "metadata": {},
     "output_type": "execute_result"
    }
   ],
   "source": [
    "type(-12 + 100.25)"
   ]
  },
  {
   "cell_type": "code",
   "execution_count": 53,
   "id": "bd9b50a0-e827-4fea-a9ba-babb948eaebe",
   "metadata": {},
   "outputs": [
    {
     "data": {
      "text/plain": [
       "complex"
      ]
     },
     "execution_count": 53,
     "metadata": {},
     "output_type": "execute_result"
    }
   ],
   "source": [
    "type(12 + 3j) # j is an imaginary number and it can work but other letters won't "
   ]
  },
  {
   "cell_type": "code",
   "execution_count": 57,
   "id": "98296e6d-d7b7-4a66-8d97-08dfdedda39c",
   "metadata": {},
   "outputs": [
    {
     "data": {
      "text/plain": [
       "bool"
      ]
     },
     "execution_count": 57,
     "metadata": {},
     "output_type": "execute_result"
    }
   ],
   "source": [
    "#Boolean\n",
    "\n",
    "type(True)"
   ]
  },
  {
   "cell_type": "code",
   "execution_count": 63,
   "id": "927e1b22-0ebe-4413-99e2-320398a2b18a",
   "metadata": {},
   "outputs": [
    {
     "data": {
      "text/plain": [
       "bool"
      ]
     },
     "execution_count": 63,
     "metadata": {},
     "output_type": "execute_result"
    }
   ],
   "source": [
    "#Boolean\n",
    "\n",
    "type( 1 > 5)"
   ]
  },
  {
   "cell_type": "code",
   "execution_count": 65,
   "id": "e8876acf-0473-4342-84ae-d057840e5811",
   "metadata": {},
   "outputs": [
    {
     "data": {
      "text/plain": [
       "False"
      ]
     },
     "execution_count": 65,
     "metadata": {},
     "output_type": "execute_result"
    }
   ],
   "source": [
    "(1 > 5)"
   ]
  },
  {
   "cell_type": "code",
   "execution_count": 67,
   "id": "adc9622a-68d6-47f7-9ba4-aa3326e1191b",
   "metadata": {},
   "outputs": [
    {
     "data": {
      "text/plain": [
       "False"
      ]
     },
     "execution_count": 67,
     "metadata": {},
     "output_type": "execute_result"
    }
   ],
   "source": [
    "(1 == 5)"
   ]
  },
  {
   "cell_type": "code",
   "execution_count": 73,
   "id": "b9fce59d-59aa-4395-9dc6-2d6943a0dfb9",
   "metadata": {},
   "outputs": [
    {
     "data": {
      "text/plain": [
       "'Single Quote'"
      ]
     },
     "execution_count": 73,
     "metadata": {},
     "output_type": "execute_result"
    }
   ],
   "source": [
    "#Strings\n",
    "\n",
    "'Single Quote'"
   ]
  },
  {
   "cell_type": "code",
   "execution_count": 75,
   "id": "ff652f2c-a036-4837-86bc-984a9df6f315",
   "metadata": {},
   "outputs": [
    {
     "data": {
      "text/plain": [
       "'Double Quote'"
      ]
     },
     "execution_count": 75,
     "metadata": {},
     "output_type": "execute_result"
    }
   ],
   "source": [
    "\"Double Quote\""
   ]
  },
  {
   "cell_type": "code",
   "execution_count": 79,
   "id": "0090ae2e-d50c-4eb3-ab0f-76eaa0a6c43a",
   "metadata": {},
   "outputs": [
    {
     "name": "stdout",
     "output_type": "stream",
     "text": [
      "\n",
      "The ice cream vanquished\n",
      "my longing for sweets,\n",
      "upon this diet I look away,\n",
      "it no longer exists on this day.\n",
      "\n"
     ]
    }
   ],
   "source": [
    "multiline = \"\"\"\n",
    "The ice cream vanquished\n",
    "my longing for sweets,\n",
    "upon this diet I look away,\n",
    "it no longer exists on this day.\"\"\"\n",
    "\n",
    "print(multiline)"
   ]
  },
  {
   "cell_type": "code",
   "execution_count": 87,
   "id": "0510e2c9-dca9-4335-818c-5d9f43c869fc",
   "metadata": {},
   "outputs": [
    {
     "ename": "SyntaxError",
     "evalue": "invalid syntax (521975582.py, line 1)",
     "output_type": "error",
     "traceback": [
      "\u001b[1;36m  Cell \u001b[1;32mIn[87], line 1\u001b[1;36m\u001b[0m\n\u001b[1;33m    ''I've always wanted to eat a gallon of ice cream.'' # not possible cause it negates the apostrophe in I've\u001b[0m\n\u001b[1;37m      ^\u001b[0m\n\u001b[1;31mSyntaxError\u001b[0m\u001b[1;31m:\u001b[0m invalid syntax\n"
     ]
    }
   ],
   "source": [
    "''I've always wanted to eat a gallon of ice cream.'' # not possible cause it negates the apostrophe in I've\n",
    "\"I've always wanted to eat a gallon of \"ice cream\".\" # use double quote to not negate the apostrophe\n",
    "\"\"\"\n",
    "I've always wanted to eat a gallon of \"ice cream\".\n",
    "\"\"\" # if there's double quote in the string then use triple quote"
   ]
  },
  {
   "cell_type": "code",
   "execution_count": 258,
   "id": "f2f38584-db5b-4216-bfb8-4cf6805951c5",
   "metadata": {},
   "outputs": [
    {
     "name": "stdout",
     "output_type": "stream",
     "text": [
      "Hello\n",
      "Hello W\n",
      " \n",
      "W\n",
      "l\n",
      "llo\n",
      "Hello \n",
      "Hel\n"
     ]
    }
   ],
   "source": [
    "a = 'Hello World!'\n",
    "print(a[:5])\n",
    "print(a[:7])\n",
    "print(a[5])\n",
    "print(a[6])\n",
    "print(a[-3])\n",
    "print(a[2:5])\n",
    "print(a[:6])\n",
    "print(a[:3])"
   ]
  },
  {
   "cell_type": "code",
   "execution_count": 111,
   "id": "a39d5364-6053-421d-bc33-b826928bb04e",
   "metadata": {},
   "outputs": [
    {
     "data": {
      "text/plain": [
       "'Hello World!Hello World!Hello World!'"
      ]
     },
     "execution_count": 111,
     "metadata": {},
     "output_type": "execute_result"
    }
   ],
   "source": [
    "a*3"
   ]
  },
  {
   "cell_type": "code",
   "execution_count": 264,
   "id": "d13ef356-5729-4e21-bee3-c16a4155732b",
   "metadata": {},
   "outputs": [
    {
     "data": {
      "text/plain": [
       "'Hello World!Hello World!'"
      ]
     },
     "execution_count": 264,
     "metadata": {},
     "output_type": "execute_result"
    }
   ],
   "source": [
    "a + a"
   ]
  },
  {
   "cell_type": "code",
   "execution_count": 266,
   "id": "54053c66-49bd-44e9-82da-920dda6bcae0",
   "metadata": {},
   "outputs": [
    {
     "data": {
      "text/plain": [
       "(1, 2, 3)"
      ]
     },
     "execution_count": 266,
     "metadata": {},
     "output_type": "execute_result"
    }
   ],
   "source": [
    "# List \n",
    "\n",
    "[] # bracket, squid, curvy means it is going to be a list\n",
    "[1, 2, 3] # bracket\n",
    "{1, 2, 3} # squid\n",
    "(1, 2, 3) # curvy or open and close parentheses"
   ]
  },
  {
   "cell_type": "code",
   "execution_count": 125,
   "id": "139e8b06-dce8-4a65-afd4-c0374d6fdfcd",
   "metadata": {},
   "outputs": [
    {
     "data": {
      "text/plain": [
       "['Cookie Dough', 'Strawberry', 'Chocolate']"
      ]
     },
     "execution_count": 125,
     "metadata": {},
     "output_type": "execute_result"
    }
   ],
   "source": [
    "['Cookie Dough', 'Strawberry', 'Chocolate']"
   ]
  },
  {
   "cell_type": "code",
   "execution_count": 129,
   "id": "1b07518a-437c-4439-967a-edafbf1791a8",
   "metadata": {},
   "outputs": [
    {
     "data": {
      "text/plain": [
       "['Vanilla', 3, ['Scoops', 'Spoon'], True]"
      ]
     },
     "execution_count": 129,
     "metadata": {},
     "output_type": "execute_result"
    }
   ],
   "source": [
    "['Vanilla', 3, ['Scoops', 'Spoon'], True] # several list within list\n",
    "                "
   ]
  },
  {
   "cell_type": "code",
   "execution_count": 272,
   "id": "21471f1e-ac20-4e56-ac0b-51dddd4a5d3a",
   "metadata": {},
   "outputs": [
    {
     "name": "stdout",
     "output_type": "stream",
     "text": [
      "0\n"
     ]
    }
   ],
   "source": [
    "ice_cream = ['Cookie Dough', 'Strawberry', 'Chocolate']\n",
    "ice_cream.append('Salted Caramel')\n",
    "ice_cream # it addedd Salted Caramel because we append it "
   ]
  },
  {
   "cell_type": "code",
   "execution_count": 135,
   "id": "3f7652a3-cee7-44c5-a596-a512fc7372ce",
   "metadata": {},
   "outputs": [
    {
     "data": {
      "text/plain": [
       "['Butter Pecan', 'Strawberry', 'Chocolate', 'Salted Caramel']"
      ]
     },
     "execution_count": 135,
     "metadata": {},
     "output_type": "execute_result"
    }
   ],
   "source": [
    "ice_cream[0] = 'Butter Pecan' # it changes the first sequence from 0 which is the Cookie Dough into Butter Pecan\n",
    "ice_cream"
   ]
  },
  {
   "cell_type": "code",
   "execution_count": 143,
   "id": "1e0f6439-11be-46a1-a42f-581c86c59554",
   "metadata": {},
   "outputs": [
    {
     "data": {
      "text/plain": [
       "'Vanilla'"
      ]
     },
     "execution_count": 143,
     "metadata": {},
     "output_type": "execute_result"
    }
   ],
   "source": [
    "nest_list = ['Vanilla', 3, ['Scoops', 'Spoon'], True]\n",
    "nest_list[0]"
   ]
  },
  {
   "cell_type": "code",
   "execution_count": 145,
   "id": "ed63cc7c-2eb6-4d26-93cc-dbb0f74d2914",
   "metadata": {},
   "outputs": [
    {
     "data": {
      "text/plain": [
       "3"
      ]
     },
     "execution_count": 145,
     "metadata": {},
     "output_type": "execute_result"
    }
   ],
   "source": [
    "nest_list[1]"
   ]
  },
  {
   "cell_type": "code",
   "execution_count": 147,
   "id": "5e8dea77-41ba-4f14-b37c-62afcd44780a",
   "metadata": {},
   "outputs": [
    {
     "data": {
      "text/plain": [
       "['Scoops', 'Spoon']"
      ]
     },
     "execution_count": 147,
     "metadata": {},
     "output_type": "execute_result"
    }
   ],
   "source": [
    "nest_list[2]"
   ]
  },
  {
   "cell_type": "code",
   "execution_count": 280,
   "id": "9ce3666f-bbbe-46b4-934d-e6053df75f7d",
   "metadata": {},
   "outputs": [
    {
     "data": {
      "text/plain": [
       "'Spoon'"
      ]
     },
     "execution_count": 280,
     "metadata": {},
     "output_type": "execute_result"
    }
   ],
   "source": [
    "nest_list[2][1]"
   ]
  },
  {
   "cell_type": "code",
   "execution_count": 151,
   "id": "e6690eeb-a682-4f58-892a-65331bb43372",
   "metadata": {},
   "outputs": [
    {
     "data": {
      "text/plain": [
       "tuple"
      ]
     },
     "execution_count": 151,
     "metadata": {},
     "output_type": "execute_result"
    }
   ],
   "source": [
    "# Tuple\n",
    "\n",
    "tuple_scoops = (1,2,3,2,1)\n",
    "type(tuple_scoops)"
   ]
  },
  {
   "cell_type": "code",
   "execution_count": 153,
   "id": "d4c0eda5-5db3-4fed-8b6d-3c2c2b56d7ef",
   "metadata": {},
   "outputs": [
    {
     "data": {
      "text/plain": [
       "1"
      ]
     },
     "execution_count": 153,
     "metadata": {},
     "output_type": "execute_result"
    }
   ],
   "source": [
    "tuple_scoops[0]\n"
   ]
  },
  {
   "cell_type": "code",
   "execution_count": 155,
   "id": "76249bed-0741-43a5-bca4-803b475e2a52",
   "metadata": {},
   "outputs": [
    {
     "ename": "AttributeError",
     "evalue": "'tuple' object has no attribute 'append'",
     "output_type": "error",
     "traceback": [
      "\u001b[1;31m---------------------------------------------------------------------------\u001b[0m",
      "\u001b[1;31mAttributeError\u001b[0m                            Traceback (most recent call last)",
      "Cell \u001b[1;32mIn[155], line 1\u001b[0m\n\u001b[1;32m----> 1\u001b[0m tuple_scoops\u001b[38;5;241m.\u001b[39mappend(\u001b[38;5;241m1\u001b[39m)\n",
      "\u001b[1;31mAttributeError\u001b[0m: 'tuple' object has no attribute 'append'"
     ]
    }
   ],
   "source": [
    "tuple_scoops.append(3) #something that won't change you cannot append like location, city, etc."
   ]
  },
  {
   "cell_type": "code",
   "execution_count": 159,
   "id": "6468c764-79f2-40e1-85d2-85e23b0b853a",
   "metadata": {},
   "outputs": [
    {
     "data": {
      "text/plain": [
       "set"
      ]
     },
     "execution_count": 159,
     "metadata": {},
     "output_type": "execute_result"
    }
   ],
   "source": [
    "# sets\n",
    "\n",
    "daily_pints = {1,2,3}\n",
    "type(daily_pints)"
   ]
  },
  {
   "cell_type": "code",
   "execution_count": 161,
   "id": "6baab5f8-f572-4ab1-8b3b-de84201b8982",
   "metadata": {},
   "outputs": [
    {
     "name": "stdout",
     "output_type": "stream",
     "text": [
      "{1, 2, 3}\n"
     ]
    }
   ],
   "source": [
    "print(daily_pints)"
   ]
  },
  {
   "cell_type": "code",
   "execution_count": 165,
   "id": "283cc05e-ef7e-4436-8df5-e40854645724",
   "metadata": {},
   "outputs": [
    {
     "name": "stdout",
     "output_type": "stream",
     "text": [
      "{1, 2, 3, 4, 5, 6, 31}\n"
     ]
    }
   ],
   "source": [
    "daily_pints_log = {1,2,31,2,3,4,1,2,5,6,3,2} \n",
    "print(daily_pints_log) # only unique values show no duplicate"
   ]
  },
  {
   "cell_type": "code",
   "execution_count": 169,
   "id": "3304c765-1eaa-4154-af94-dc7ac0761052",
   "metadata": {},
   "outputs": [
    {
     "name": "stdout",
     "output_type": "stream",
     "text": [
      "{0, 1, 2, 3, 4, 5, 6, 7, 24, 31}\n"
     ]
    }
   ],
   "source": [
    "wifes_daily_pints_log = {1,3,5,7,3,24,5,7,3,2,0}\n",
    "print(daily_pints_log | wifes_daily_pints_log ) # the bar will show us the combined unique values "
   ]
  },
  {
   "cell_type": "code",
   "execution_count": 171,
   "id": "e3563023-958b-4a36-96d5-7f1d83a20030",
   "metadata": {},
   "outputs": [
    {
     "name": "stdout",
     "output_type": "stream",
     "text": [
      "{1, 2, 3, 5}\n"
     ]
    }
   ],
   "source": [
    "print(daily_pints_log & wifes_daily_pints_log ) # using ampersand it will show us what number shows in both sets"
   ]
  },
  {
   "cell_type": "code",
   "execution_count": 173,
   "id": "5cd2f6e2-adab-473e-8444-061f7b3a64de",
   "metadata": {},
   "outputs": [
    {
     "name": "stdout",
     "output_type": "stream",
     "text": [
      "{4, 6, 31}\n"
     ]
    }
   ],
   "source": [
    "print(daily_pints_log - wifes_daily_pints_log ) # using minus sign it will give us numbers that doesn't match"
   ]
  },
  {
   "cell_type": "code",
   "execution_count": 175,
   "id": "0df38343-37d3-4b70-8eb1-9706acd373c7",
   "metadata": {},
   "outputs": [
    {
     "name": "stdout",
     "output_type": "stream",
     "text": [
      "{0, 24, 7}\n"
     ]
    }
   ],
   "source": [
    "print(wifes_daily_pints_log - daily_pints_log ) # compare the first one to other one if there's values that doesn't match"
   ]
  },
  {
   "cell_type": "code",
   "execution_count": 198,
   "id": "33890e86-11e4-4099-be1e-e1fffa6a1520",
   "metadata": {},
   "outputs": [
    {
     "name": "stdout",
     "output_type": "stream",
     "text": [
      "{0, 4, 6, 7, 24, 31}\n"
     ]
    }
   ],
   "source": [
    "print(wifes_daily_pints_log ^ daily_pints_log ) # ^ (caret) this symbol will show if the values is in either one or the other but not in both"
   ]
  },
  {
   "cell_type": "code",
   "execution_count": 202,
   "id": "74c6b936-5e2e-447a-9195-48337b657e3b",
   "metadata": {},
   "outputs": [],
   "source": [
    "# dictionaries\n",
    "#key/value pair\n",
    "\n",
    "dict_cream = {'name': 'Alex Freberg', 'weekly intake': 5, 'favorite ice creams': ['MCC', 'Chocolate']}\n"
   ]
  },
  {
   "cell_type": "code",
   "execution_count": 204,
   "id": "169e834c-ad56-40c2-8060-f6aa73a81494",
   "metadata": {},
   "outputs": [
    {
     "data": {
      "text/plain": [
       "dict"
      ]
     },
     "execution_count": 204,
     "metadata": {},
     "output_type": "execute_result"
    }
   ],
   "source": [
    "type(dict_cream)"
   ]
  },
  {
   "cell_type": "code",
   "execution_count": 206,
   "id": "cb0b5ad9-a1d2-4298-8b0e-394aa8fe5265",
   "metadata": {},
   "outputs": [
    {
     "name": "stdout",
     "output_type": "stream",
     "text": [
      "{'name': 'Alex Freberg', 'weekly intake': 5, 'favorite ice creams': ['MCC', 'Chocolate']}\n"
     ]
    }
   ],
   "source": [
    "print(dict_cream)"
   ]
  },
  {
   "cell_type": "code",
   "execution_count": 208,
   "id": "14f6e5dc-a309-4ff5-8c85-b12a3fba1d3b",
   "metadata": {},
   "outputs": [
    {
     "data": {
      "text/plain": [
       "dict_values(['Alex Freberg', 5, ['MCC', 'Chocolate']])"
      ]
     },
     "execution_count": 208,
     "metadata": {},
     "output_type": "execute_result"
    }
   ],
   "source": [
    "dict_cream.values()"
   ]
  },
  {
   "cell_type": "code",
   "execution_count": 210,
   "id": "d36c34e5-c99a-4d4f-ab9a-c686c65e3154",
   "metadata": {},
   "outputs": [
    {
     "data": {
      "text/plain": [
       "dict_keys(['name', 'weekly intake', 'favorite ice creams'])"
      ]
     },
     "execution_count": 210,
     "metadata": {},
     "output_type": "execute_result"
    }
   ],
   "source": [
    "dict_cream.keys()"
   ]
  },
  {
   "cell_type": "code",
   "execution_count": 212,
   "id": "c179ea9b-b7cd-413d-b3a7-b9ba6b80022c",
   "metadata": {},
   "outputs": [
    {
     "data": {
      "text/plain": [
       "dict_items([('name', 'Alex Freberg'), ('weekly intake', 5), ('favorite ice creams', ['MCC', 'Chocolate'])])"
      ]
     },
     "execution_count": 212,
     "metadata": {},
     "output_type": "execute_result"
    }
   ],
   "source": [
    "dict_cream.items()"
   ]
  },
  {
   "cell_type": "code",
   "execution_count": 214,
   "id": "8f72c4b7-3b7b-46c1-859e-1fc47d7efb1e",
   "metadata": {},
   "outputs": [
    {
     "data": {
      "text/plain": [
       "'Alex Freberg'"
      ]
     },
     "execution_count": 214,
     "metadata": {},
     "output_type": "execute_result"
    }
   ],
   "source": [
    "dict_cream['name']"
   ]
  },
  {
   "cell_type": "code",
   "execution_count": 216,
   "id": "43205db3-f742-4570-bcef-fdc0ce76b6c8",
   "metadata": {},
   "outputs": [
    {
     "data": {
      "text/plain": [
       "5"
      ]
     },
     "execution_count": 216,
     "metadata": {},
     "output_type": "execute_result"
    }
   ],
   "source": [
    "dict_cream['weekly intake']"
   ]
  },
  {
   "cell_type": "code",
   "execution_count": 218,
   "id": "ba4b8e13-0acf-4c21-80f9-308badd0be3b",
   "metadata": {},
   "outputs": [
    {
     "data": {
      "text/plain": [
       "['MCC', 'Chocolate']"
      ]
     },
     "execution_count": 218,
     "metadata": {},
     "output_type": "execute_result"
    }
   ],
   "source": [
    "dict_cream['favorite ice creams']"
   ]
  },
  {
   "cell_type": "code",
   "execution_count": 224,
   "id": "9e943e31-f34e-49e6-880e-e3ccdfac10b2",
   "metadata": {},
   "outputs": [
    {
     "name": "stdout",
     "output_type": "stream",
     "text": [
      "{'name': 'Christine Freberg', 'weekly intake': 5, 'favorite ice creams': ['MCC', 'Chocolate']}\n"
     ]
    }
   ],
   "source": [
    "dict_cream['name'] = 'Christine Freberg' # changing the name of the value\n",
    "\n",
    "print(dict_cream)"
   ]
  },
  {
   "cell_type": "code",
   "execution_count": 246,
   "id": "59cfb05a-5edb-4a8b-ba3a-bb9c15a7dda3",
   "metadata": {},
   "outputs": [],
   "source": [
    "dict_cream.update({'name': 'Christine Freberg', 'weekly intake': 10, 'weight': 300})"
   ]
  },
  {
   "cell_type": "code",
   "execution_count": 238,
   "id": "591a8e91-381f-49ec-8c6f-f99cce5a405b",
   "metadata": {},
   "outputs": [
    {
     "name": "stdout",
     "output_type": "stream",
     "text": [
      "{'name': 'Christine Freberg', 'weekly intake': 10, 'favorite ice creams': ['MCC', 'Chocolate'], 'weight': 300}\n"
     ]
    }
   ],
   "source": [
    "print(dict_cream) #it did not remove the original values but added the new values to the result"
   ]
  },
  {
   "cell_type": "code",
   "execution_count": 248,
   "id": "b823e7ca-e81f-480c-b826-977d963e92a2",
   "metadata": {},
   "outputs": [
    {
     "name": "stdout",
     "output_type": "stream",
     "text": [
      "{'name': 'Christine Freberg', 'favorite ice creams': ['MCC', 'Chocolate'], 'weekly intake': 10}\n"
     ]
    }
   ],
   "source": [
    "del dict_cream['weight']\n",
    "\n",
    "print(dict_cream)"
   ]
  },
  {
   "cell_type": "code",
   "execution_count": null,
   "id": "3899cc92-238e-4c5b-a319-9ddad91e5db3",
   "metadata": {},
   "outputs": [],
   "source": []
  },
  {
   "cell_type": "code",
   "execution_count": null,
   "id": "193212e0-93ec-45d0-bee8-83321e1728ee",
   "metadata": {},
   "outputs": [],
   "source": []
  }
 ],
 "metadata": {
  "kernelspec": {
   "display_name": "Python [conda env:base] *",
   "language": "python",
   "name": "conda-base-py"
  },
  "language_info": {
   "codemirror_mode": {
    "name": "ipython",
    "version": 3
   },
   "file_extension": ".py",
   "mimetype": "text/x-python",
   "name": "python",
   "nbconvert_exporter": "python",
   "pygments_lexer": "ipython3",
   "version": "3.12.7"
  }
 },
 "nbformat": 4,
 "nbformat_minor": 5
}
