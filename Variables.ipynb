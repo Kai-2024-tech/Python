{
 "cells": [
  {
   "cell_type": "markdown",
   "id": "b8678632-25d2-41ca-9966-1c622825c8b9",
   "metadata": {},
   "source": [
    "Variables in Python"
   ]
  },
  {
   "cell_type": "code",
   "execution_count": 26,
   "id": "9f5aa92b-0b11-46b4-9a53-598a27dca2e4",
   "metadata": {},
   "outputs": [
    {
     "name": "stdout",
     "output_type": "stream",
     "text": [
      "22\n"
     ]
    }
   ],
   "source": [
    "x = 22 # x is a variable where we assign a value to it \n",
    "print(x)"
   ]
  },
  {
   "cell_type": "code",
   "execution_count": 18,
   "id": "f1018c5a-4f6d-4e81-93be-a4f95d983c9d",
   "metadata": {},
   "outputs": [
    {
     "data": {
      "text/plain": [
       "int"
      ]
     },
     "execution_count": 18,
     "metadata": {},
     "output_type": "execute_result"
    }
   ],
   "source": [
    "type(x) # we asked what kind of type is x and it says that it is number"
   ]
  },
  {
   "cell_type": "code",
   "execution_count": 22,
   "id": "c0942346-e1a4-42e6-88d2-8ec2fb3de28d",
   "metadata": {},
   "outputs": [
    {
     "name": "stdout",
     "output_type": "stream",
     "text": [
      "Mint Chocolate Chip\n"
     ]
    }
   ],
   "source": [
    "y = 'Mint Chocolate Chip'\n",
    "print(y)"
   ]
  },
  {
   "cell_type": "code",
   "execution_count": 24,
   "id": "9d8a378e-8ba7-454d-8639-14d7feac8335",
   "metadata": {},
   "outputs": [
    {
     "data": {
      "text/plain": [
       "str"
      ]
     },
     "execution_count": 24,
     "metadata": {},
     "output_type": "execute_result"
    }
   ],
   "source": [
    "type(y) # now it says here that y variable consists of a string or text"
   ]
  },
  {
   "cell_type": "code",
   "execution_count": 9,
   "id": "1549f68d-6d3c-47be-b1a8-3fa873a37698",
   "metadata": {},
   "outputs": [
    {
     "name": "stdout",
     "output_type": "stream",
     "text": [
      "Mint\n"
     ]
    }
   ],
   "source": [
    "y = 'Chocolate' # it over writes the first y variable so it it's important to take note of that\n",
    "y = 'Mint Chocolate Chip' # but since here we put the y variable in the second line then python will follow that, whatever comes before the print func.\n",
    "Y = 'Mint' # it is also case sensitive so you need to keep an eye out on uppercase and lowercase letters\n",
    "\n",
    "print(Y)"
   ]
  },
  {
   "cell_type": "code",
   "execution_count": 44,
   "id": "91c21ae5-ab3a-42f6-989e-b6ece430fe3e",
   "metadata": {},
   "outputs": [
    {
     "name": "stdout",
     "output_type": "stream",
     "text": [
      "Chocolate Vanilla Rocky Road\n",
      "Chocolate\n",
      "Vanilla\n",
      "Rocky Road\n"
     ]
    }
   ],
   "source": [
    "x,y,z = 'Chocolate', 'Vanilla', 'Rocky Road'\n",
    "\n",
    "print(x,y,z)\n",
    "print(x)\n",
    "print(y)\n",
    "print(z)"
   ]
  },
  {
   "cell_type": "code",
   "execution_count": 46,
   "id": "7290ae44-151b-4c48-b4b9-45f8501b25dc",
   "metadata": {},
   "outputs": [
    {
     "name": "stdout",
     "output_type": "stream",
     "text": [
      "Root Beer Float Root Beer Float Root Beer Float\n",
      "Root Beer Float\n",
      "Root Beer Float\n",
      "Root Beer Float\n"
     ]
    }
   ],
   "source": [
    "x = y = z = 'Root Beer Float'\n",
    "\n",
    "print(x,y,z)\n",
    "print(x)\n",
    "print(y)\n",
    "print(z)\n"
   ]
  },
  {
   "cell_type": "code",
   "execution_count": 11,
   "id": "22021ea8-6370-497f-ac5b-0d759f15428c",
   "metadata": {},
   "outputs": [
    {
     "name": "stdout",
     "output_type": "stream",
     "text": [
      "Chocolate\n",
      "Vanilla\n",
      "Rocky Road\n"
     ]
    }
   ],
   "source": [
    "ice_cream = ['Chocolate', 'Vanilla', 'Rocky Road']\n",
    "x,y,z = ice_cream\n",
    "\n",
    "print(x)\n",
    "print(y)\n",
    "print(z)"
   ]
  },
  {
   "cell_type": "code",
   "execution_count": null,
   "id": "5cf81073-c2b6-477b-9c9b-274369e5be7f",
   "metadata": {},
   "outputs": [],
   "source": [
    "# Camel Case # the first letter of the variable is in lowercase\n",
    "\n",
    "#Test Variable Case\n",
    "\n",
    "testVariableCase = 'Vanilla Swirl'"
   ]
  },
  {
   "cell_type": "code",
   "execution_count": null,
   "id": "ccb9053e-7106-4237-b17e-fe0877b0d3bb",
   "metadata": {},
   "outputs": [],
   "source": [
    "# Pascal Case # all first letter of the variable is in uppercase\n",
    "\n",
    "#Test Variable Case\n",
    "\n",
    "TestVariableCase = 'Vanilla Swirl'"
   ]
  },
  {
   "cell_type": "code",
   "execution_count": null,
   "id": "85aa1c24-670a-4307-9918-17d1d80cdb33",
   "metadata": {},
   "outputs": [],
   "source": [
    "# Snake Case # all words are separated by underscore\n",
    "\n",
    "#Test Variable Case\n",
    "\n",
    "test_variable_case = 'Vanilla Swirl'"
   ]
  },
  {
   "cell_type": "code",
   "execution_count": null,
   "id": "4515dd5d-136d-4901-99e9-66f9bdcb57a7",
   "metadata": {},
   "outputs": [],
   "source": [
    "testvar = 'Vanilla Swirl' # you can do all of this although some are semi-frowned upon\n",
    "test_var = 'Vanilla Swirl'\n",
    "_test_var = 'Vanilla Swirl'\n",
    "testVar = 'Vanilla Swirl'\n",
    "TestVar = 'Vanilla Swirl'\n",
    "testVar2 = 'Vanilla Swirl'"
   ]
  },
  {
   "cell_type": "code",
   "execution_count": null,
   "id": "e99e9890-ea21-4768-84b7-77543fbbf463",
   "metadata": {},
   "outputs": [],
   "source": [
    "2testVar = 'Vanilla Swirl' #you can't do all of these cause it will not work along with other symbols\n",
    "test-Var2 = 'Vanilla Swirl'\n",
    "test Var2 = 'Vanilla Swirl'\n",
    "test,Var2 = 'Vanilla Swirl'"
   ]
  },
  {
   "cell_type": "code",
   "execution_count": 13,
   "id": "a2662aec-d557-42ca-988d-1e71448ed6cb",
   "metadata": {},
   "outputs": [
    {
     "name": "stdout",
     "output_type": "stream",
     "text": [
      "Ice Cream is my favorite..\n"
     ]
    }
   ],
   "source": [
    "x = 'Ice Cream is my favorite' + '.' # you cannot concatenate integers to strings \n",
    "print(x)"
   ]
  },
  {
   "cell_type": "code",
   "execution_count": 71,
   "id": "2320f04a-de87-411a-a6f9-7003d76f031d",
   "metadata": {},
   "outputs": [
    {
     "name": "stdout",
     "output_type": "stream",
     "text": [
      "5\n"
     ]
    }
   ],
   "source": [
    "y = 3 + 2 # you can concat integers to integers\n",
    "print(y)"
   ]
  },
  {
   "cell_type": "code",
   "execution_count": 21,
   "id": "3bf2bce7-83e1-42c1-b00a-6b0a1c7bf8b5",
   "metadata": {},
   "outputs": [
    {
     "name": "stdout",
     "output_type": "stream",
     "text": [
      "Ice Cream is my favorite.\n"
     ]
    }
   ],
   "source": [
    "x = 'Ice Cream'\n",
    "y = ' is'\n",
    "z = ' my favorite.'\n",
    "print(x+y+z)"
   ]
  },
  {
   "cell_type": "code",
   "execution_count": 77,
   "id": "bf7b10c3-596f-4ba2-81f2-1be15c5ad64f",
   "metadata": {},
   "outputs": [
    {
     "name": "stdout",
     "output_type": "stream",
     "text": [
      "6\n"
     ]
    }
   ],
   "source": [
    "x = 1\n",
    "y = 2\n",
    "z = 3\n",
    "print(x+y+z)"
   ]
  },
  {
   "cell_type": "code",
   "execution_count": 25,
   "id": "76f977ce-ba51-4f81-8262-11f0394e5cfe",
   "metadata": {},
   "outputs": [
    {
     "name": "stdout",
     "output_type": "stream",
     "text": [
      "Ice Cream 2\n"
     ]
    }
   ],
   "source": [
    "x = 'Ice Cream' # you can do this because you did not add a value that should have mathematical result but still consider as text only\n",
    "y = 2\n",
    "print(x,y) # just use comma"
   ]
  },
  {
   "cell_type": "code",
   "execution_count": null,
   "id": "6b29be8e-8971-416f-9da1-af80a94acd15",
   "metadata": {},
   "outputs": [],
   "source": []
  },
  {
   "cell_type": "code",
   "execution_count": null,
   "id": "54934b4a-cc78-42ae-bbaa-b4f2ea8ff4e2",
   "metadata": {},
   "outputs": [],
   "source": []
  },
  {
   "cell_type": "code",
   "execution_count": null,
   "id": "0fa69479-007f-4450-abc1-ff8d758daeb2",
   "metadata": {},
   "outputs": [],
   "source": []
  },
  {
   "cell_type": "code",
   "execution_count": null,
   "id": "31212072-18fb-4d54-ac27-a98a23a58486",
   "metadata": {},
   "outputs": [],
   "source": []
  },
  {
   "cell_type": "code",
   "execution_count": null,
   "id": "6f0d75c5-a071-4d9d-aa69-2fcca209f5c5",
   "metadata": {},
   "outputs": [],
   "source": []
  },
  {
   "cell_type": "code",
   "execution_count": null,
   "id": "7bd0137b-5bb9-4795-adf4-025f423ce973",
   "metadata": {},
   "outputs": [],
   "source": []
  },
  {
   "cell_type": "code",
   "execution_count": null,
   "id": "d91c08d4-7fc9-4fe7-81bc-f57bf6175692",
   "metadata": {},
   "outputs": [],
   "source": []
  },
  {
   "cell_type": "code",
   "execution_count": null,
   "id": "fc4cce11-0314-48a4-952d-f35554f763b5",
   "metadata": {},
   "outputs": [],
   "source": []
  },
  {
   "cell_type": "code",
   "execution_count": null,
   "id": "5196a0ea-fbf6-471f-af37-653b20a987ac",
   "metadata": {},
   "outputs": [],
   "source": []
  },
  {
   "cell_type": "code",
   "execution_count": null,
   "id": "ccbc0b1d-d955-4700-9c9b-381ddd1cb656",
   "metadata": {},
   "outputs": [],
   "source": []
  },
  {
   "cell_type": "code",
   "execution_count": null,
   "id": "a848322c-d377-481e-ae93-22854e432886",
   "metadata": {},
   "outputs": [],
   "source": []
  },
  {
   "cell_type": "code",
   "execution_count": null,
   "id": "f7d83c75-4100-4a0a-aabd-d96ca7255843",
   "metadata": {},
   "outputs": [],
   "source": []
  }
 ],
 "metadata": {
  "kernelspec": {
   "display_name": "Python [conda env:base] *",
   "language": "python",
   "name": "conda-base-py"
  },
  "language_info": {
   "codemirror_mode": {
    "name": "ipython",
    "version": 3
   },
   "file_extension": ".py",
   "mimetype": "text/x-python",
   "name": "python",
   "nbconvert_exporter": "python",
   "pygments_lexer": "ipython3",
   "version": "3.12.7"
  }
 },
 "nbformat": 4,
 "nbformat_minor": 5
}
