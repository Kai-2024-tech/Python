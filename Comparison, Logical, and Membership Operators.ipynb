{
 "cells": [
  {
   "cell_type": "code",
   "execution_count": 5,
   "id": "0522848c-cdb4-4b1e-9fd7-4f4cb95eb504",
   "metadata": {},
   "outputs": [],
   "source": [
    "# Comparison, Logical, and Membership Operators\n",
    "\n",
    "# == Equal\n",
    "# != Not Equal\n",
    "# > Greater than\n",
    "# < Less than\n",
    "# >= Greater than or equal to \n",
    "# <= Less than or equal to  "
   ]
  },
  {
   "cell_type": "code",
   "execution_count": 34,
   "id": "032a7f47-bb31-4451-b6d5-06030e2d2bf4",
   "metadata": {},
   "outputs": [
    {
     "data": {
      "text/plain": [
       "True"
      ]
     },
     "execution_count": 34,
     "metadata": {},
     "output_type": "execute_result"
    }
   ],
   "source": [
    "10 == 10"
   ]
  },
  {
   "cell_type": "code",
   "execution_count": 36,
   "id": "b9aaf3b0-ca69-4bdd-b5e6-07bd499bda9d",
   "metadata": {},
   "outputs": [
    {
     "data": {
      "text/plain": [
       "False"
      ]
     },
     "execution_count": 36,
     "metadata": {},
     "output_type": "execute_result"
    }
   ],
   "source": [
    "10 == 50 # when you use this kind of operators it will give you T or F"
   ]
  },
  {
   "cell_type": "code",
   "execution_count": 38,
   "id": "06813d6f-f997-46ae-968a-7f54507cbbb0",
   "metadata": {},
   "outputs": [
    {
     "data": {
      "text/plain": [
       "True"
      ]
     },
     "execution_count": 38,
     "metadata": {},
     "output_type": "execute_result"
    }
   ],
   "source": [
    "10 != 50"
   ]
  },
  {
   "cell_type": "code",
   "execution_count": 40,
   "id": "b04e09a2-77b4-4eb3-941f-39ecb61567f3",
   "metadata": {},
   "outputs": [
    {
     "data": {
      "text/plain": [
       "True"
      ]
     },
     "execution_count": 40,
     "metadata": {},
     "output_type": "execute_result"
    }
   ],
   "source": [
    "'Vanilla' != 'Chocolate'"
   ]
  },
  {
   "cell_type": "code",
   "execution_count": 42,
   "id": "e010c41a-63cc-4530-b24c-df8878c0a188",
   "metadata": {},
   "outputs": [
    {
     "data": {
      "text/plain": [
       "False"
      ]
     },
     "execution_count": 42,
     "metadata": {},
     "output_type": "execute_result"
    }
   ],
   "source": [
    "'Vanilla' == 'Chocolate'"
   ]
  },
  {
   "cell_type": "code",
   "execution_count": 44,
   "id": "eb5772ab-6565-43c3-9e87-d12c1f3118b9",
   "metadata": {},
   "outputs": [
    {
     "data": {
      "text/plain": [
       "True"
      ]
     },
     "execution_count": 44,
     "metadata": {},
     "output_type": "execute_result"
    }
   ],
   "source": [
    "x = 'Vanilla' \n",
    "y = 'Chocolate'\n",
    "\n",
    "x != y"
   ]
  },
  {
   "cell_type": "code",
   "execution_count": 46,
   "id": "1b5746c7-6a44-458b-9b7d-ac94149c72b0",
   "metadata": {},
   "outputs": [
    {
     "data": {
      "text/plain": [
       "False"
      ]
     },
     "execution_count": 46,
     "metadata": {},
     "output_type": "execute_result"
    }
   ],
   "source": [
    "10 > 10"
   ]
  },
  {
   "cell_type": "code",
   "execution_count": null,
   "id": "d019064b-7e44-4a18-aea4-0f75dafb5250",
   "metadata": {},
   "outputs": [],
   "source": [
    "# Logical Operators\n",
    "\n",
    "# Operator   Description\n",
    "# and        Returns True if both statements are true\n",
    "# or         Returns True if one of the statements is true\n",
    "# not        Reverse the result, returns False if the result is true"
   ]
  },
  {
   "cell_type": "code",
   "execution_count": 48,
   "id": "ff19634d-0146-4ccd-a8f7-ea601d8b7b50",
   "metadata": {},
   "outputs": [
    {
     "data": {
      "text/plain": [
       "True"
      ]
     },
     "execution_count": 48,
     "metadata": {},
     "output_type": "execute_result"
    }
   ],
   "source": [
    "(70 > 50) and (50 > 10)"
   ]
  },
  {
   "cell_type": "code",
   "execution_count": 52,
   "id": "82c375e3-9911-4f56-b653-630ce7df8109",
   "metadata": {},
   "outputs": [
    {
     "data": {
      "text/plain": [
       "True"
      ]
     },
     "execution_count": 52,
     "metadata": {},
     "output_type": "execute_result"
    }
   ],
   "source": [
    "(10 > 50) or (50 > 10)"
   ]
  },
  {
   "cell_type": "code",
   "execution_count": 54,
   "id": "064a9672-c201-4fbc-a7b9-79684d2c1118",
   "metadata": {},
   "outputs": [
    {
     "data": {
      "text/plain": [
       "True"
      ]
     },
     "execution_count": 54,
     "metadata": {},
     "output_type": "execute_result"
    }
   ],
   "source": [
    "('Vanilla') > ('Chocolate') and (50 > 10) # when you do this it will count the first letter from the alphabet "
   ]
  },
  {
   "cell_type": "code",
   "execution_count": 56,
   "id": "a0e356d3-e6fa-488a-812a-c4f32f1378cd",
   "metadata": {},
   "outputs": [
    {
     "data": {
      "text/plain": [
       "False"
      ]
     },
     "execution_count": 56,
     "metadata": {},
     "output_type": "execute_result"
    }
   ],
   "source": [
    "not(50 > 10) "
   ]
  },
  {
   "cell_type": "code",
   "execution_count": null,
   "id": "59916289-0193-4805-a732-ef1d7429d199",
   "metadata": {},
   "outputs": [],
   "source": [
    "#Membership Operators\n",
    "\n",
    "# Operator     # Description\n",
    "\n",
    "# in           # Returns True if a sequence with the specified value is present in the object\n",
    "\n",
    "not in         # Returns True if a sequence with the specified value is not present in the object"
   ]
  },
  {
   "cell_type": "code",
   "execution_count": 66,
   "id": "b02e335f-b8aa-4e49-8d1f-13fb95cbbd13",
   "metadata": {},
   "outputs": [
    {
     "data": {
      "text/plain": [
       "True"
      ]
     },
     "execution_count": 66,
     "metadata": {},
     "output_type": "execute_result"
    }
   ],
   "source": [
    "ice_cream = 'I love Chocolate ice cream'\n",
    "\n",
    "'love' in ice_cream"
   ]
  },
  {
   "cell_type": "code",
   "execution_count": 68,
   "id": "f7af64c4-1bac-403b-af72-a736fde5b65d",
   "metadata": {},
   "outputs": [
    {
     "data": {
      "text/plain": [
       "True"
      ]
     },
     "execution_count": 68,
     "metadata": {},
     "output_type": "execute_result"
    }
   ],
   "source": [
    "'love' in 'I love Chocolate ice cream'"
   ]
  },
  {
   "cell_type": "code",
   "execution_count": 70,
   "id": "e533e843-64e0-4217-8f84-4a3de0a26788",
   "metadata": {},
   "outputs": [
    {
     "data": {
      "text/plain": [
       "True"
      ]
     },
     "execution_count": 70,
     "metadata": {},
     "output_type": "execute_result"
    }
   ],
   "source": [
    "scoops = [1,2,3,4,5]\n",
    "\n",
    "2 in scoops"
   ]
  },
  {
   "cell_type": "code",
   "execution_count": 72,
   "id": "8dc3bb27-21e8-445f-9325-e39b513274a8",
   "metadata": {},
   "outputs": [
    {
     "data": {
      "text/plain": [
       "False"
      ]
     },
     "execution_count": 72,
     "metadata": {},
     "output_type": "execute_result"
    }
   ],
   "source": [
    "6 in scoops"
   ]
  },
  {
   "cell_type": "code",
   "execution_count": 74,
   "id": "9236347f-d02c-4bce-b069-b746049ef7fc",
   "metadata": {},
   "outputs": [],
   "source": [
    "wanted_scoops = 8"
   ]
  },
  {
   "cell_type": "code",
   "execution_count": 76,
   "id": "53857b9e-2cdf-4643-b034-96250e0b6a99",
   "metadata": {},
   "outputs": [
    {
     "data": {
      "text/plain": [
       "False"
      ]
     },
     "execution_count": 76,
     "metadata": {},
     "output_type": "execute_result"
    }
   ],
   "source": [
    "wanted_scoops in scoops"
   ]
  },
  {
   "cell_type": "code",
   "execution_count": 78,
   "id": "77d2f1e2-7ee8-4b4a-83d5-1f214c849de3",
   "metadata": {},
   "outputs": [
    {
     "data": {
      "text/plain": [
       "True"
      ]
     },
     "execution_count": 78,
     "metadata": {},
     "output_type": "execute_result"
    }
   ],
   "source": [
    "wanted_scoops not in scoops"
   ]
  },
  {
   "cell_type": "code",
   "execution_count": null,
   "id": "074b7899-1002-459d-9e41-c76e5e07011b",
   "metadata": {},
   "outputs": [],
   "source": []
  },
  {
   "cell_type": "code",
   "execution_count": null,
   "id": "5999565f-0d1c-4961-b015-3f08c5759f5b",
   "metadata": {},
   "outputs": [],
   "source": []
  },
  {
   "cell_type": "code",
   "execution_count": null,
   "id": "ae517076-e69c-437a-a7bd-240109b05c02",
   "metadata": {},
   "outputs": [],
   "source": []
  },
  {
   "cell_type": "code",
   "execution_count": null,
   "id": "2f6ec09b-5b3d-4bdd-bf04-a55c0d1e1cd6",
   "metadata": {},
   "outputs": [],
   "source": []
  },
  {
   "cell_type": "code",
   "execution_count": null,
   "id": "a9e662e4-e58d-428f-8e18-6efe3f6fda79",
   "metadata": {},
   "outputs": [],
   "source": []
  },
  {
   "cell_type": "code",
   "execution_count": null,
   "id": "56171d53-f81d-4c19-a26f-25eebd773e91",
   "metadata": {},
   "outputs": [],
   "source": []
  },
  {
   "cell_type": "code",
   "execution_count": null,
   "id": "f9be8afd-ae4b-4158-89f3-b8d040d83155",
   "metadata": {},
   "outputs": [],
   "source": []
  },
  {
   "cell_type": "code",
   "execution_count": null,
   "id": "85da6681-de39-4629-9860-631a820e30b6",
   "metadata": {},
   "outputs": [],
   "source": []
  }
 ],
 "metadata": {
  "kernelspec": {
   "display_name": "Python [conda env:base] *",
   "language": "python",
   "name": "conda-base-py"
  },
  "language_info": {
   "codemirror_mode": {
    "name": "ipython",
    "version": 3
   },
   "file_extension": ".py",
   "mimetype": "text/x-python",
   "name": "python",
   "nbconvert_exporter": "python",
   "pygments_lexer": "ipython3",
   "version": "3.12.7"
  }
 },
 "nbformat": 4,
 "nbformat_minor": 5
}
